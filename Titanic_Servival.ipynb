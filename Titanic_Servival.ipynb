{
  "nbformat": 4,
  "nbformat_minor": 0,
  "metadata": {
    "colab": {
      "provenance": []
    },
    "kernelspec": {
      "name": "python3",
      "display_name": "Python 3"
    },
    "language_info": {
      "name": "python"
    }
  },
  "cells": [
    {
      "cell_type": "code",
      "execution_count": 12,
      "metadata": {
        "colab": {
          "base_uri": "https://localhost:8080/"
        },
        "id": "bzxBbI648IWX",
        "outputId": "e02c0234-e5ab-4462-a019-fe4621107b48"
      },
      "outputs": [
        {
          "output_type": "stream",
          "name": "stdout",
          "text": [
            "PassengerId      0\n",
            "Survived         0\n",
            "Pclass           0\n",
            "Name             0\n",
            "Sex              0\n",
            "Age            177\n",
            "SibSp            0\n",
            "Parch            0\n",
            "Ticket           0\n",
            "Fare             0\n",
            "Embarked         2\n",
            "dtype: int64\n"
          ]
        }
      ],
      "source": [
        "import pandas as pd\n",
        "\n",
        "data = pd.read_csv('/content/train.csv')\n",
        "\n",
        "print(data.isnull().sum())"
      ]
    },
    {
      "cell_type": "code",
      "source": [
        "평균 = data['Age'].mean()\n",
        "최빈값 = data['Embarked'].mode()[0]\n",
        "\n",
        "data['Age'].fillna(평균, inplace=True)\n",
        "data['Embarked'].fillna(최빈값, inplace=True)\n",
        "\n",
        "print(data.isnull().sum())"
      ],
      "metadata": {
        "colab": {
          "base_uri": "https://localhost:8080/"
        },
        "id": "NH9-PZoO9J2b",
        "outputId": "73680699-2326-4438-e998-9aac9c7d78aa"
      },
      "execution_count": 13,
      "outputs": [
        {
          "output_type": "stream",
          "name": "stdout",
          "text": [
            "PassengerId    0\n",
            "Survived       0\n",
            "Pclass         0\n",
            "Name           0\n",
            "Sex            0\n",
            "Age            0\n",
            "SibSp          0\n",
            "Parch          0\n",
            "Ticket         0\n",
            "Fare           0\n",
            "Embarked       0\n",
            "dtype: int64\n"
          ]
        },
        {
          "output_type": "stream",
          "name": "stderr",
          "text": [
            "<ipython-input-13-787fbf6e59b8>:4: FutureWarning: A value is trying to be set on a copy of a DataFrame or Series through chained assignment using an inplace method.\n",
            "The behavior will change in pandas 3.0. This inplace method will never work because the intermediate object on which we are setting values always behaves as a copy.\n",
            "\n",
            "For example, when doing 'df[col].method(value, inplace=True)', try using 'df.method({col: value}, inplace=True)' or df[col] = df[col].method(value) instead, to perform the operation inplace on the original object.\n",
            "\n",
            "\n",
            "  data['Age'].fillna(평균, inplace=True)\n",
            "<ipython-input-13-787fbf6e59b8>:5: FutureWarning: A value is trying to be set on a copy of a DataFrame or Series through chained assignment using an inplace method.\n",
            "The behavior will change in pandas 3.0. This inplace method will never work because the intermediate object on which we are setting values always behaves as a copy.\n",
            "\n",
            "For example, when doing 'df[col].method(value, inplace=True)', try using 'df.method({col: value}, inplace=True)' or df[col] = df[col].method(value) instead, to perform the operation inplace on the original object.\n",
            "\n",
            "\n",
            "  data['Embarked'].fillna(최빈값, inplace=True)\n"
          ]
        }
      ]
    },
    {
      "cell_type": "code",
      "source": [
        "import tensorflow as tf\n",
        "\n",
        "정답 = data.pop('Survived')\n",
        "\n"
      ],
      "metadata": {
        "id": "F_xc0s0_9krc"
      },
      "execution_count": 14,
      "outputs": []
    },
    {
      "cell_type": "code",
      "source": [
        "\n",
        "ds = tf.data.Dataset.from_tensor_slices(((dict(data)), 정답))\n",
        "print(ds)"
      ],
      "metadata": {
        "colab": {
          "base_uri": "https://localhost:8080/"
        },
        "id": "sfZw_K3v-O0o",
        "outputId": "0aace21c-b1c1-4a2e-819f-c38e36500b59"
      },
      "execution_count": 15,
      "outputs": [
        {
          "output_type": "stream",
          "name": "stdout",
          "text": [
            "<_TensorSliceDataset element_spec=({'PassengerId': TensorSpec(shape=(), dtype=tf.int64, name=None), 'Pclass': TensorSpec(shape=(), dtype=tf.int64, name=None), 'Name': TensorSpec(shape=(), dtype=tf.string, name=None), 'Sex': TensorSpec(shape=(), dtype=tf.string, name=None), 'Age': TensorSpec(shape=(), dtype=tf.float64, name=None), 'SibSp': TensorSpec(shape=(), dtype=tf.int64, name=None), 'Parch': TensorSpec(shape=(), dtype=tf.int64, name=None), 'Ticket': TensorSpec(shape=(), dtype=tf.string, name=None), 'Fare': TensorSpec(shape=(), dtype=tf.float64, name=None), 'Embarked': TensorSpec(shape=(), dtype=tf.string, name=None)}, TensorSpec(shape=(), dtype=tf.int64, name=None))>\n"
          ]
        }
      ]
    },
    {
      "cell_type": "code",
      "source": [
        "feature_columns = []\n",
        "# 숫자\n",
        "feature_columns.append(tf.feature_column.numeric_column('Fare'))\n",
        "feature_columns.append(tf.feature_column.numeric_column('SibSp'))\n",
        "feature_columns.append(tf.feature_column.numeric_column('Parch'))\n",
        "\n",
        "#뭉뚱 카테고리\n",
        "Age= tf.feature_column.numeric_column('Age')\n",
        "Age_bucket = tf.feature_column.bucketized_column(Age, boundaries=[10, 20, 30, 40, 50, 60, 70, 80])\n",
        "feature_columns.append(Age_bucket)\n",
        "\n",
        "# 카테고리\n",
        "vocab = data['Sex'].unique()\n",
        "Sex = tf.feature_column.indicator_column(tf.feature_column.categorical_column_with_vocabulary_list('Sex', vocab))\n",
        "feature_columns.append(Sex)\n",
        "\n",
        "vocab = data['Embarked'].unique()\n",
        "Embarked = tf.feature_column.indicator_column(tf.feature_column.categorical_column_with_vocabulary_list('Embarked', vocab))\n",
        "feature_columns.append(Embarked)\n",
        "\n",
        "vocab = data['Pclass'].unique()\n",
        "Pclass = tf.feature_column.indicator_column(tf.feature_column.categorical_column_with_vocabulary_list('Pclass', vocab))\n",
        "feature_columns.append(Pclass)\n"
      ],
      "metadata": {
        "id": "lzvYsbRf-ROS"
      },
      "execution_count": 16,
      "outputs": []
    },
    {
      "cell_type": "code",
      "source": [
        "#embedding (카테고리가 너무 많아)\n",
        "vocab = data['Ticket'].unique()\n",
        "Ticket = tf.feature_column.embedding_column(tf.feature_column.categorical_column_with_vocabulary_list('Ticket', vocab), dimension = 9)\n",
        "feature_columns.append(Ticket)\n"
      ],
      "metadata": {
        "id": "a_-to7-UA03g"
      },
      "execution_count": 17,
      "outputs": []
    },
    {
      "cell_type": "code",
      "source": [
        "# 모델 입력 정의\n",
        "inputs = tf.keras.layers.Input(shape=(len(feature_columns),))\n",
        "\n",
        "# Normalization 레이어 추가\n",
        "norm_layer = tf.keras.layers.Normalization()(inputs)  # 데이터 정규화\n",
        "\n",
        "\n",
        "model = tf.keras.Sequential([\n",
        "    tf.keras.layers.Normalization(input_shape=(len(feature_columns),)),  # 정규화 레이어 추가\n",
        "    tf.keras.layers.Dense(64, activation = 'relu'),\n",
        "    tf.keras.layers.Dropout(0.2),\n",
        "    tf.keras.layers.Dense(1, activation = 'sigmoid')\n",
        "])\n",
        "\n",
        "model.compile(optimizer='adam',\n",
        "              loss='binary_crossentropy',\n",
        "              metrics=['accuracy'])\n",
        "\n",
        "\n",
        "ds_batch = ds.batch(32)\n",
        "# model.fit(ds_batch, shuffle = True,  epochs=20)\n"
      ],
      "metadata": {
        "id": "cqUqHkMJBYQG"
      },
      "execution_count": 19,
      "outputs": []
    }
  ]
}